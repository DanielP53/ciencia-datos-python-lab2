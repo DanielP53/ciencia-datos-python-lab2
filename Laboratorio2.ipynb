{
 "cells": [
  {
   "cell_type": "markdown",
   "id": "1b4a2c90-957a-4dfd-8039-09e7a8ab5025",
   "metadata": {},
   "source": [
    "# Ciencia de Datos en Python Laboratorio #2"
   ]
  },
  {
   "cell_type": "markdown",
   "id": "ba4a9328-f4c5-4c59-98f1-d7c650aee1a4",
   "metadata": {},
   "source": [
    "### Sintaxis y Estructuras de Datos"
   ]
  },
  {
   "cell_type": "markdown",
   "id": "0e044095-e6c7-498a-8614-77e7f81108eb",
   "metadata": {},
   "source": [
    "#### Seccion V\n",
    "#### Pablo Daniel Passarelli López\n",
    "#### 17001393"
   ]
  },
  {
   "cell_type": "markdown",
   "id": "0ef54f88-1180-43a0-a8f3-08e58b06fa15",
   "metadata": {},
   "source": [
    "## Parte #1"
   ]
  },
  {
   "cell_type": "markdown",
   "id": "7d848564-63f1-4a41-a96c-302b6690ea2a",
   "metadata": {},
   "source": [
    "### 1."
   ]
  },
  {
   "cell_type": "code",
   "execution_count": 10,
   "id": "79d21db5-8da2-4768-9410-53ec8fe69ea1",
   "metadata": {
    "tags": []
   },
   "outputs": [
    {
     "name": "stdin",
     "output_type": "stream",
     "text": [
      "Ingrese los segundos 3666\n"
     ]
    },
    {
     "name": "stdout",
     "output_type": "stream",
     "text": [
      "Horas: 1, Minutos 1, Segundos 6\n"
     ]
    }
   ],
   "source": [
    "segundos = int (input(\"Ingrese los segundos\"))\n",
    "horas = segundos//3600\n",
    "minutos = (segundos - (horas * 3600)) // 60\n",
    "segundos = segundos - (horas*3600) - (minutos*60)\n",
    "print(f\"Horas: {horas}, Minutos {minutos}, Segundos {segundos}\")"
   ]
  },
  {
   "cell_type": "markdown",
   "id": "49226e26-734b-405d-92ab-fa6c1c23adab",
   "metadata": {},
   "source": [
    "### 2."
   ]
  },
  {
   "cell_type": "code",
   "execution_count": 32,
   "id": "265da440-1ac9-4bee-9c77-a079fec5ea76",
   "metadata": {
    "tags": []
   },
   "outputs": [
    {
     "name": "stdin",
     "output_type": "stream",
     "text": [
      "Ingrese un numero 4\n",
      "Ingrese un simbolo *\n"
     ]
    },
    {
     "name": "stdout",
     "output_type": "stream",
     "text": [
      "*\n",
      "**\n",
      "***\n",
      "****\n",
      "\n",
      "****\n",
      "***\n",
      "**\n",
      "*\n",
      "\n",
      "****\n",
      " ***\n",
      "  **\n",
      "   *\n",
      "\n",
      "   *\n",
      "  **\n",
      " ***\n",
      "****\n"
     ]
    }
   ],
   "source": [
    "def triangulos():\n",
    "    num = int(input(\"Ingrese un numero\"))\n",
    "    simbolo = input(\"Ingrese un simbolo\")\n",
    "    triangulo = []\n",
    "    espacios = []\n",
    "    \n",
    "    for i in range(num):\n",
    "        if (i == 0):\n",
    "            triangulo.append(simbolo)\n",
    "            espacios.append(\"\")\n",
    "        else:\n",
    "            triangulo.append(triangulo[i-1]+simbolo)\n",
    "            espacios.append(espacios[i-1]+\" \")\n",
    "        print(triangulo[i])\n",
    "    \n",
    "    triangulo.reverse()\n",
    "\n",
    "    print()\n",
    "\n",
    "    for i in range(num):\n",
    "        print(triangulo[i])\n",
    "        \n",
    "    print()\n",
    "        \n",
    "    for i in range(num):\n",
    "        print(f\"{espacios[i]}{triangulo[i]}\")\n",
    "        \n",
    "    triangulo.reverse()\n",
    "    espacios.reverse()\n",
    "    print()\n",
    "        \n",
    "    for i in range(num):\n",
    "        print(f\"{espacios[i]}{triangulo[i]}\")\n",
    "            \n",
    "            \n",
    "triangulos()"
   ]
  },
  {
   "cell_type": "markdown",
   "id": "b0fbef57-540a-47c7-918d-2ffc2fefe81b",
   "metadata": {},
   "source": [
    "### 3."
   ]
  },
  {
   "cell_type": "code",
   "execution_count": 14,
   "id": "60114d3e-0a27-45c7-b035-243b447a4b3e",
   "metadata": {
    "tags": []
   },
   "outputs": [
    {
     "name": "stdin",
     "output_type": "stream",
     "text": [
      "Ingrese el dia de su nacimiento 22\n",
      "Ingrese el mes de su nacimiento 3\n",
      "Ingrese el año de su nacimiento 1998\n"
     ]
    },
    {
     "name": "stdout",
     "output_type": "stream",
     "text": [
      "Tiene 26 años, 11 meses, 29 dias\n"
     ]
    }
   ],
   "source": [
    "from datetime import date\n",
    "\n",
    "actual = date.today()\n",
    "dia = int(input(\"Ingrese el dia de su nacimiento\"))\n",
    "mes = int(input(\"Ingrese el mes de su nacimiento\"))\n",
    "año = int(input(\"Ingrese el año de su nacimiento\"))\n",
    "\n",
    "edad_año = actual.year - año\n",
    "\n",
    "if(dia==actual.day):\n",
    "    edad_dia=0\n",
    "elif (dia<actual.day):\n",
    "    edad_dia=actual.day-dia\n",
    "else:\n",
    "    edad_dia=30-(dia-actual.day)\n",
    "\n",
    "if (mes==actual.month):\n",
    "    edad_mes=0\n",
    "elif (mes<actual.month):\n",
    "    edad_mes=actual.month-mes\n",
    "else:\n",
    "    edad_mes= 12-(mes-actual.month)\n",
    " \n",
    "print(f\"Tiene {edad_año} años, {edad_mes} meses, {edad_dia} dias\")"
   ]
  },
  {
   "cell_type": "markdown",
   "id": "3b8d3610-5875-433f-b25e-b317a380b1ac",
   "metadata": {},
   "source": [
    "### 4."
   ]
  },
  {
   "cell_type": "code",
   "execution_count": 18,
   "id": "8f53c1c9-f574-4c24-a031-beeccbac6658",
   "metadata": {
    "tags": []
   },
   "outputs": [
    {
     "name": "stdout",
     "output_type": "stream",
     "text": [
      "ABCDE\n"
     ]
    }
   ],
   "source": [
    "def toString(tupla):\n",
    "    string =\"\"\n",
    "\n",
    "    for valor in tupla:\n",
    "        string=string+str(valor)\n",
    "    \n",
    "    print(string)\n",
    "\n",
    "    \n",
    "test=(10,20,40,5,70)\n",
    "test2=(\"A\",\"B\",\"C\",\"D\",\"E\")\n",
    "\n",
    "toString(test2)\n"
   ]
  },
  {
   "cell_type": "markdown",
   "id": "40be294a-d3bd-424a-b6d4-9e39908c4fa6",
   "metadata": {},
   "source": [
    "### 5."
   ]
  },
  {
   "cell_type": "code",
   "execution_count": 31,
   "id": "543dbab1-2bb2-40af-869e-a27d1591ea55",
   "metadata": {
    "tags": []
   },
   "outputs": [
    {
     "data": {
      "text/plain": [
       "['X', ('a', 'b'), ('a', 'b', 'c'), 'd']"
      ]
     },
     "execution_count": 31,
     "metadata": {},
     "output_type": "execute_result"
    }
   ],
   "source": [
    "lista= [(),(),(\"X\"),(\"a\", \"b\"),(\"a\",\"b\", \"c\"), (\"d\")]\n",
    "\n",
    "while (() in lista):\n",
    "    lista.remove(())\n",
    "\n",
    "lista"
   ]
  },
  {
   "cell_type": "markdown",
   "id": "39bc24b9-a1c4-4cca-bbde-85a0d2669522",
   "metadata": {},
   "source": [
    "### 6."
   ]
  },
  {
   "cell_type": "code",
   "execution_count": 43,
   "id": "ae46f9ea-6914-471b-a90f-c7a512ce2944",
   "metadata": {
    "tags": []
   },
   "outputs": [
    {
     "data": {
      "text/plain": [
       "(10.5, 44.0, 58.0)"
      ]
     },
     "execution_count": 43,
     "metadata": {},
     "output_type": "execute_result"
    }
   ],
   "source": [
    "def promedios(tupla):\n",
    "    promedio = sum(tupla)/len(tupla)\n",
    "    return (promedio)\n",
    "\n",
    "        \n",
    "        \n",
    "tuplas=((10, 10, 10, 12), (30, 45, 56, 45), (81, 80, 39, 32))\n",
    "\n",
    "tupla_promedios=tuple([promedios(valor) for valor in tuplas])\n",
    "\n",
    "tupla_promedios\n",
    "            "
   ]
  },
  {
   "cell_type": "markdown",
   "id": "2cc11377-0052-43ba-abec-ecd9d7a15e38",
   "metadata": {},
   "source": [
    "### 7."
   ]
  },
  {
   "cell_type": "code",
   "execution_count": 16,
   "id": "b5df63c4-cc73-4bca-acea-21e15710b6fa",
   "metadata": {
    "tags": []
   },
   "outputs": [
    {
     "name": "stdout",
     "output_type": "stream",
     "text": [
      "Menu:\n",
      "1. Añadir factura\n",
      "2. Pagar factura\n",
      "3. Terminar\n"
     ]
    },
    {
     "name": "stdin",
     "output_type": "stream",
     "text": [
      "Ingrese una opcion: 1\n",
      "Ingrese el numero de la factura 0000\n",
      "Monto de la factura 50\n"
     ]
    },
    {
     "name": "stdout",
     "output_type": "stream",
     "text": [
      "\n",
      "{'0000': 50}\n",
      "\n",
      "Falta por pagar: 50\n",
      "Total pagado: 0\n",
      "Menu:\n",
      "1. Añadir factura\n",
      "2. Pagar factura\n",
      "3. Terminar\n"
     ]
    },
    {
     "name": "stdin",
     "output_type": "stream",
     "text": [
      "Ingrese una opcion: 1\n",
      "Ingrese el numero de la factura 0001\n",
      "Monto de la factura 25\n"
     ]
    },
    {
     "name": "stdout",
     "output_type": "stream",
     "text": [
      "\n",
      "{'0000': 50, '0001': 25}\n",
      "\n",
      "Falta por pagar: 75\n",
      "Total pagado: 0\n",
      "Menu:\n",
      "1. Añadir factura\n",
      "2. Pagar factura\n",
      "3. Terminar\n"
     ]
    },
    {
     "name": "stdin",
     "output_type": "stream",
     "text": [
      "Ingrese una opcion: 0002\n",
      "Ingrese el numero de la factura a pagar 0000\n"
     ]
    },
    {
     "name": "stdout",
     "output_type": "stream",
     "text": [
      "0000 {'0000': 50, '0001': 25}\n",
      "La factura #0000 fue pagada por el monto de 50\n",
      "Falta por pagar: 25\n",
      "Total pagado: 50\n",
      "Menu:\n",
      "1. Añadir factura\n",
      "2. Pagar factura\n",
      "3. Terminar\n"
     ]
    },
    {
     "name": "stdin",
     "output_type": "stream",
     "text": [
      "Ingrese una opcion: 3\n"
     ]
    },
    {
     "name": "stdout",
     "output_type": "stream",
     "text": [
      "Falta por pagar: 25\n",
      "Total pagado: 50\n"
     ]
    }
   ],
   "source": [
    "opcion=0\n",
    "diccionario={};\n",
    "pendiente=0;\n",
    "cancelado=0;\n",
    "while (opcion<3):\n",
    "    print(\"Menu:\")\n",
    "    print(\"1. Añadir factura\")\n",
    "    print(\"2. Pagar factura\")\n",
    "    print(\"3. Terminar\")\n",
    "    opcion=int(input(\"Ingrese una opcion:\"))\n",
    "    \n",
    "    if (opcion == 1):\n",
    "        numero_factura=input(\"Ingrese el numero de la factura\");\n",
    "        if (len(numero_factura)>3):\n",
    "            if (numero_factura in diccionario.keys()):\n",
    "                print(\"Esa factura ya existe\");\n",
    "            else:\n",
    "                monto=int(input(\"Monto de la factura\"))\n",
    "                diccionario[numero_factura]=monto\n",
    "                pendiente=pendiente+monto\n",
    "        \n",
    "            print()\n",
    "            print(diccionario)\n",
    "            print()\n",
    "        \n",
    "        else:\n",
    "            print(\"El numero para identificar la factura es muy pequeño\")\n",
    "        \n",
    "    elif (opcion == 2):\n",
    "        numero_factura=input(\"Ingrese el numero de la factura a pagar\")\n",
    "        print(numero_factura, diccionario);\n",
    "        cancelado=cancelado+diccionario[numero_factura];\n",
    "        pendiente=pendiente-diccionario[numero_factura];\n",
    "        print(f\"La factura #{numero_factura} fue pagada por el monto de {diccionario[numero_factura]}\")\n",
    "        del diccionario[numero_factura]\n",
    "    \n",
    "    print(f\"Falta por pagar: {pendiente}\");\n",
    "    print(f\"Total pagado: {cancelado}\");\n",
    "        "
   ]
  },
  {
   "cell_type": "markdown",
   "id": "675b9d82-29a6-4e5c-8838-1429c3c35352",
   "metadata": {},
   "source": [
    "### 8."
   ]
  },
  {
   "cell_type": "code",
   "execution_count": 20,
   "id": "ea97f7f5-c991-462d-91d8-adfc92c58b39",
   "metadata": {
    "tags": []
   },
   "outputs": [
    {
     "name": "stdout",
     "output_type": "stream",
     "text": [
      "52\n",
      "0.28846153846153844 0.19230769230769232\n"
     ]
    }
   ],
   "source": [
    "import random\n",
    "baraja=[];\n",
    "def crearBaraja():\n",
    "    color=['T','C','P','E'];\n",
    "    numero=['01','02','03','04','05','06','07','08','09','10','11','12','13'];\n",
    "    \n",
    "    for x in color:\n",
    "        for y in numero:\n",
    "            baraja.append(x+y)\n",
    "    \n",
    "    print(len(baraja))\n",
    "\n",
    "def separarSets():\n",
    "    tamaño1=random.randint(1,52);\n",
    "    tamaño2=random.randint(1,52);\n",
    "    while (tamaño1+tamaño2)>52:\n",
    "        tamaño1=random.randint(1,52);\n",
    "        tamaño2=random.randint(1,52);\n",
    "        print(tamaño1, tamaño2)\n",
    "    set1=[];\n",
    "    set2=[];\n",
    "    \n",
    "    for i in range(0, tamaño1):\n",
    "        posicion = random.randint(0,51)\n",
    "        \n",
    "        while baraja[posicion]== 'null':\n",
    "            posicion=random.randint(0,51)\n",
    "        \n",
    "        set1.append(baraja[posicion])\n",
    "        baraja[posicion]='null'\n",
    "            \n",
    "    for i in range(0,tamaño2):\n",
    "        posicion= random.randint(0,51)\n",
    "        \n",
    "        while baraja[posicion]=='null':\n",
    "            posicion=random.randint(0,51)\n",
    "        \n",
    "        set2.append(baraja[posicion])\n",
    "        baraja[posicion]='null'\n",
    "    \n",
    "    set1=set(set1)\n",
    "    set2=set(set2)\n",
    "    \n",
    "    return set1, set2\n",
    "\n",
    "def probabilidad(set1, set2):\n",
    "    p1 = len(set1)/52;\n",
    "    p2 = len(set2)/52;\n",
    "    \n",
    "    print(p1, p2)\n",
    "    \n",
    "def regla_producto(p1, p2):\n",
    "    p1Np2=p1*p2\n",
    "    \n",
    "def regla_adicion(p1, p2):\n",
    "    \n",
    "    \n",
    "crearBaraja()\n",
    "set1, set2 = separarSets()\n",
    "probabilidad(set1, set2)"
   ]
  },
  {
   "cell_type": "code",
   "execution_count": null,
   "id": "0e652647-1d53-4cc6-8a6b-4af80f450117",
   "metadata": {},
   "outputs": [],
   "source": []
  },
  {
   "cell_type": "code",
   "execution_count": null,
   "id": "f9000cd0-2b17-4319-8158-8d3030cb0564",
   "metadata": {},
   "outputs": [],
   "source": []
  }
 ],
 "metadata": {
  "kernelspec": {
   "display_name": "Python 3 (ipykernel)",
   "language": "python",
   "name": "python3"
  },
  "language_info": {
   "codemirror_mode": {
    "name": "ipython",
    "version": 3
   },
   "file_extension": ".py",
   "mimetype": "text/x-python",
   "name": "python",
   "nbconvert_exporter": "python",
   "pygments_lexer": "ipython3",
   "version": "3.11.5"
  }
 },
 "nbformat": 4,
 "nbformat_minor": 5
}
